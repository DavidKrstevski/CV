{
 "cells": [
  {
   "cell_type": "code",
   "execution_count": 1,
   "id": "a8c638a302ea94d5",
   "metadata": {
    "ExecuteTime": {
     "end_time": "2025-09-29T18:39:30.868595Z",
     "start_time": "2025-09-29T18:39:30.781348Z"
    }
   },
   "outputs": [],
   "source": [
    "import os\n",
    "import cv2 "
   ]
  },
  {
   "cell_type": "markdown",
   "id": "9dcc4274",
   "metadata": {},
   "source": [
    "1. Data Setup"
   ]
  },
  {
   "cell_type": "code",
   "execution_count": null,
   "id": "ba30e8fd",
   "metadata": {
    "ExecuteTime": {
     "end_time": "2025-09-29T18:45:14.486580Z",
     "start_time": "2025-09-29T18:39:33.082865Z"
    }
   },
   "outputs": [],
   "source": [
    "image_dir = \"./images\"\n",
    "images, labels = [], []\n",
    "\n",
    "for file_name in os.listdir(image_dir):\n",
    "    parts = os.path.splitext(file_name)[0].split(\"_\")\n",
    "    if len(parts) != 4 or any(p == \"\" for p in parts):\n",
    "        continue\n",
    "\n",
    "    age, gender, race, date = int(parts[0]), int(parts[1]), int(parts[2]), parts[3]\n",
    "    if not (0 <= age <= 116 and gender in (0, 1) and 0 <= race <= 4 and len(date) == 17):\n",
    "        continue\n",
    "\n",
    "    img_path = os.path.join(image_dir, file_name)\n",
    "    img = cv2.imread(img_path)\n",
    "\n",
    "    images.append(img)\n",
    "    labels.append({\n",
    "        \"age\": age,\n",
    "        \"gender\": gender,\n",
    "        \"race\": race,\n",
    "        \"datetime\": date\n",
    "    })\n",
    "\n",
    "print(len(images))"
   ]
  },
  {
   "cell_type": "markdown",
   "id": "ceb452f2",
   "metadata": {},
   "source": [
    "2. Data Exploration & Visualisation"
   ]
  },
  {
   "cell_type": "code",
   "execution_count": 4,
   "id": "5af6893f",
   "metadata": {
    "ExecuteTime": {
     "end_time": "2025-09-29T18:45:39.355233Z",
     "start_time": "2025-09-29T18:45:39.341065Z"
    }
   },
   "outputs": [],
   "source": [
    "import random\n",
    "import matplotlib.pyplot as plt\n",
    "import seaborn as sns"
   ]
  },
  {
   "cell_type": "code",
   "execution_count": null,
   "id": "5a6d6caa",
   "metadata": {
    "ExecuteTime": {
     "end_time": "2025-09-29T18:45:44.477806Z",
     "start_time": "2025-09-29T18:45:41.602073Z"
    }
   },
   "outputs": [],
   "source": [
    "# Visualize random sample\n",
    "plt.figure(figsize=(10, 6))\n",
    "for i in range(9):  # show 9 random images\n",
    "    idx = random.randint(0, len(images) - 1)\n",
    "    img = images[idx]\n",
    "    label = labels[idx]\n",
    "\n",
    "    plt.subplot(3, 3, i + 1)\n",
    "    plt.imshow(cv2.cvtColor(img, cv2.COLOR_BGR2RGB))  # convert BGR -> RGB for matplotlib\n",
    "    plt.axis(\"off\")\n",
    "    plt.title(f'Age:{label[\"age\"]}\\nGender:{label[\"gender\"]} Race:{label[\"race\"]}')\n",
    "plt.tight_layout()\n",
    "plt.show()\n",
    "\n",
    "# Plot age distribution (histogram)\n",
    "genders = [i[\"gender\"] for i in labels]\n",
    "races = [i[\"race\"] for i in labels]\n",
    "age_list = [i[\"age\"] for i in labels]\n",
    "\n",
    "plt.figure(figsize=(8, 5))\n",
    "sns.histplot(age_list, color='blue')\n",
    "plt.title('Age Distribution')\n",
    "plt.xlabel('Age')\n",
    "plt.ylabel('Frequency')\n",
    "plt.show()\n",
    "\n",
    "# Check class balance\n",
    "fig, axes = plt.subplots(1, 2, figsize=(12, 5))\n",
    "\n",
    "sns.countplot(x=genders, ax=axes[0])\n",
    "axes[0].set_title(\"Gender Balance (0=Male, 1=Female)\")\n",
    "axes[0].set_xlabel(\"Gender\")\n",
    "axes[0].set_ylabel(\"Count\")\n",
    "\n",
    "sns.countplot(x=races, ax=axes[1])\n",
    "axes[1].set_title(\"Race Balance\")\n",
    "axes[1].set_xlabel(\"Race\")\n",
    "axes[1].set_ylabel(\"Count\")\n",
    "\n",
    "plt.show()\n",
    "\n",
    "# Identify potential biases (e.g., gender, ethnicity, lighting)\n",
    "plt.figure(figsize=(10, 5))\n",
    "sns.boxplot(x=genders, y=[i[\"age\"] for i in labels])\n",
    "plt.title(\"Age Distribution by Gender\")\n",
    "plt.xlabel(\"Gender (0=Male, 1=Female)\")\n",
    "plt.ylabel(\"Age\")\n",
    "plt.show()\n",
    "\n",
    "plt.figure(figsize=(10, 5))\n",
    "sns.boxplot(x=races, y=[i[\"age\"] for i in labels])\n",
    "plt.title(\"Age Distribution by Race\")\n",
    "plt.xlabel(\"Race\")\n",
    "plt.ylabel(\"Age\")\n",
    "plt.show()"
   ]
  },
  {
   "cell_type": "markdown",
   "id": "22c8f0256a0423ea",
   "metadata": {},
   "source": [
    "3. Data Preprocessing"
   ]
  },
  {
   "cell_type": "code",
   "execution_count": 8,
   "id": "f54160dde25c0159",
   "metadata": {
    "ExecuteTime": {
     "end_time": "2025-09-29T19:32:54.794533Z",
     "start_time": "2025-09-29T19:32:54.665216Z"
    }
   },
   "outputs": [],
   "source": [
    "# for memory-safe preprocessing\n",
    "# FREE RAM (safe to run even if vars don't exist)\n",
    "import gc\n",
    "for name in [\"X\", \"X_tmp\", \"X_train\", \"X_val\", \"X_test\", \"dbg_X\", \"dbg_y\", \"dbg_w\"]:\n",
    "    if name in globals():\n",
    "        del globals()[name]\n",
    "gc.collect()\n",
    "\n",
    "import cv2\n",
    "import numpy as np\n",
    "from sklearn.model_selection import train_test_split\n",
    "from collections import Counter\n",
    "import matplotlib.pyplot as plt\n",
    "\n",
    "# reproducibility\n",
    "RANDOM_SEED = 42\n",
    "rng = np.random.default_rng(RANDOM_SEED)\n",
    "\n",
    "# preprocessing settings\n",
    "TARGET_SIZE = (224, 224)    # (W, H). If RAM is super tight, use (160,160) or (128,128)\n",
    "NORMALIZE_01 = True         # we'll scale to [0,1] in the generator\n",
    "STANDARDIZE = False         # optional: apply (x-mean)/std after normalization (see 3.F)\n",
    "\n",
    "# split ratios\n",
    "TEST_SIZE = 0.15\n",
    "VAL_SIZE  = 0.15  # of total\n",
    "\n",
    "# stratification bins\n",
    "AGE_BINS = [0, 5, 12, 18, 30, 45, 60, 80, 200]\n",
    "\n",
    "# sanity check that points 1–2 ran:\n",
    "assert \"images\" in globals() and \"labels\" in globals(), \"Run your dataset loading first (points 1–2).\""
   ]
  },
  {
   "cell_type": "code",
   "execution_count": 8,
   "id": "ff99f169766a3766",
   "metadata": {
    "ExecuteTime": {
     "end_time": "2025-09-29T19:32:59.808861Z",
     "start_time": "2025-09-29T19:32:59.741063Z"
    }
   },
   "outputs": [
    {
     "name": "stdout",
     "output_type": "stream",
     "text": [
      "N=11138 samples\n"
     ]
    }
   ],
   "source": [
    "# LABEL ARRAYS\n",
    "ages    = np.array([d[\"age\"]    for d in labels], dtype=np.float32)  # regression target\n",
    "genders = np.array([d[\"gender\"] for d in labels], dtype=np.int32)\n",
    "races   = np.array([d[\"race\"]   for d in labels], dtype=np.int32)\n",
    "\n",
    "print(f\"N={len(ages)} samples\")"
   ]
  },
  {
   "cell_type": "code",
   "execution_count": 11,
   "id": "caf95411eb12344",
   "metadata": {
    "ExecuteTime": {
     "end_time": "2025-09-29T19:39:50.272224Z",
     "start_time": "2025-09-29T19:33:04.366305Z"
    }
   },
   "outputs": [
    {
     "name": "stdout",
     "output_type": "stream",
     "text": [
      "Memmap written: (24099, 224, 224, 3) uint8 -> preprocessed_images.dat\n"
     ]
    }
   ],
   "source": [
    "# STREAM PREPROCESS -> MEMMAP (avoids huge RAM use)\n",
    "\n",
    "out_shape = (len(images), TARGET_SIZE[1], TARGET_SIZE[0], 3)  # (N, H, W, 3)\n",
    "mm_path = \"preprocessed_images.dat\"\n",
    "\n",
    "# Create memmap for writing\n",
    "X_mm = np.memmap(mm_path, dtype=np.uint8, mode='w+', shape=out_shape)\n",
    "\n",
    "def to_rgb_resized_uint8(img_bgr, target_size=TARGET_SIZE):\n",
    "    img = cv2.resize(img_bgr, target_size, interpolation=cv2.INTER_AREA)\n",
    "    img = cv2.cvtColor(img, cv2.COLOR_BGR2RGB)\n",
    "    return img  # uint8\n",
    "\n",
    "CHUNK = 256\n",
    "for start in range(0, len(images), CHUNK):\n",
    "    end = min(start + CHUNK, len(images))\n",
    "    for i in range(start, end):\n",
    "        X_mm[i] = to_rgb_resized_uint8(images[i])\n",
    "    X_mm.flush()\n",
    "\n",
    "# Free original full-res images to reclaim RAM\n",
    "images = None\n",
    "gc.collect()\n",
    "\n",
    "print(\"Memmap written:\", X_mm.shape, X_mm.dtype, \"->\", mm_path)"
   ]
  },
  {
   "cell_type": "code",
   "execution_count": 12,
   "id": "84cb44a47261708",
   "metadata": {
    "ExecuteTime": {
     "end_time": "2025-09-29T19:42:58.827478Z",
     "start_time": "2025-09-29T19:42:58.767912Z"
    }
   },
   "outputs": [
    {
     "name": "stdout",
     "output_type": "stream",
     "text": [
      "Counts -> train/val/test: 16869 3615 3615\n",
      "Bin counts (train): Counter({np.int64(3): 5408, np.int64(4): 4007, np.int64(5): 2363, np.int64(0): 1682, np.int64(6): 1434, np.int64(1): 807, np.int64(2): 679, np.int64(7): 489})\n",
      "Bin counts (val):   Counter({np.int64(3): 1159, np.int64(4): 859, np.int64(5): 506, np.int64(0): 361, np.int64(6): 307, np.int64(1): 173, np.int64(2): 145, np.int64(7): 105})\n",
      "Bin counts (test):  Counter({np.int64(3): 1159, np.int64(4): 859, np.int64(5): 506, np.int64(0): 361, np.int64(6): 307, np.int64(1): 173, np.int64(2): 145, np.int64(7): 105})\n"
     ]
    }
   ],
   "source": [
    "# STRATIFIED SPLIT BY AGE BINS (indices only; data stays on disk)\n",
    "bins_idx = np.digitize(ages, AGE_BINS, right=False) - 1\n",
    "idx_all = np.arange(len(ages))\n",
    "\n",
    "# test split\n",
    "idx_tmp, idx_test, ages_tmp, ages_test, bins_tmp, bins_test = train_test_split(\n",
    "    idx_all, ages, bins_idx,\n",
    "    test_size=TEST_SIZE, random_state=RANDOM_SEED, stratify=bins_idx\n",
    ")\n",
    "\n",
    "# val split from remainder\n",
    "val_ratio_of_remaining = VAL_SIZE / (1.0 - TEST_SIZE)\n",
    "idx_train, idx_val, ages_train, ages_val, bins_train, bins_val = train_test_split(\n",
    "    idx_tmp, ages_tmp, bins_tmp,\n",
    "    test_size=val_ratio_of_remaining, random_state=RANDOM_SEED, stratify=bins_tmp\n",
    ")\n",
    "\n",
    "print(\"Counts -> train/val/test:\", len(idx_train), len(idx_val), len(idx_test))\n",
    "print(\"Bin counts (train):\", Counter(bins_train))\n",
    "print(\"Bin counts (val):  \", Counter(bins_val))\n",
    "print(\"Bin counts (test): \", Counter(bins_test))"
   ]
  },
  {
   "cell_type": "code",
   "execution_count": null,
   "id": "403e9b661390b5ae",
   "metadata": {
    "ExecuteTime": {
     "end_time": "2025-09-29T19:51:15.762717Z",
     "start_time": "2025-09-29T19:51:15.096755Z"
    }
   },
   "outputs": [],
   "source": [
    "# VISUALIZE STRATIFIED SPLITS: counts + percentages by age bin\n",
    "\n",
    "# 1) Build ordered counts per bin\n",
    "K = len(AGE_BINS) - 1  # number of bins\n",
    "bin_labels = []\n",
    "for i in range(K):\n",
    "    lo, hi = AGE_BINS[i], AGE_BINS[i+1]\n",
    "    if i < K - 1:\n",
    "        bin_labels.append(f\"{lo}–{hi-1}\")\n",
    "    else:\n",
    "        bin_labels.append(f\"{lo}+\")\n",
    "\n",
    "def counts_in_order(counter, K):\n",
    "    return np.array([counter.get(i, 0) for i in range(K)], dtype=np.int32)\n",
    "\n",
    "train_counts = counts_in_order(Counter(bins_train), K)\n",
    "val_counts   = counts_in_order(Counter(bins_val),   K)\n",
    "test_counts  = counts_in_order(Counter(bins_test),  K)\n",
    "\n",
    "# 2) Plot raw counts (side-by-side bars)\n",
    "x = np.arange(K)\n",
    "w = 0.25\n",
    "\n",
    "plt.figure(figsize=(12, 5))\n",
    "plt.bar(x - w, train_counts, width=w, label=\"Train\")\n",
    "plt.bar(x,       val_counts, width=w, label=\"Val\")\n",
    "plt.bar(x + w, test_counts,  width=w, label=\"Test\")\n",
    "plt.xticks(x, bin_labels, rotation=0)\n",
    "plt.xlabel(\"Age bins\")\n",
    "plt.ylabel(\"Count\")\n",
    "plt.title(\"Age-bin distribution: Train vs Val vs Test (counts)\")\n",
    "plt.legend()\n",
    "plt.tight_layout()\n",
    "plt.show()\n",
    "\n",
    "# 3) Plot normalized percentages (so the shapes should look almost identical across splits)\n",
    "train_pct = (train_counts / train_counts.sum()) * 100.0\n",
    "val_pct   = (val_counts   / val_counts.sum())   * 100.0\n",
    "test_pct  = (test_counts  / test_counts.sum())  * 100.0\n",
    "\n",
    "plt.figure(figsize=(12, 5))\n",
    "plt.bar(x - w, train_pct, width=w, label=\"Train\")\n",
    "plt.bar(x,       val_pct, width=w, label=\"Val\")\n",
    "plt.bar(x + w, test_pct,  width=w, label=\"Test\")\n",
    "plt.xticks(x, bin_labels, rotation=0)\n",
    "plt.xlabel(\"Age bins\")\n",
    "plt.ylabel(\"Share (%)\")\n",
    "plt.title(\"Age-bin distribution: Train vs Val vs Test (percent)\")\n",
    "plt.legend()\n",
    "plt.tight_layout()\n",
    "plt.show()\n"
   ]
  },
  {
   "cell_type": "code",
   "execution_count": 14,
   "id": "46958c1b4625d74d",
   "metadata": {
    "ExecuteTime": {
     "end_time": "2025-09-29T20:20:44.985617Z",
     "start_time": "2025-09-29T20:20:44.930158Z"
    }
   },
   "outputs": [],
   "source": [
    "# AUGMENTATION UTILS\n",
    "def random_hflip(img_uint8, p=0.5):\n",
    "    if rng.random() < p:\n",
    "        return np.ascontiguousarray(img_uint8[:, ::-1, :])\n",
    "    return img_uint8\n",
    "\n",
    "def random_rotate(img_uint8, max_deg=10):\n",
    "    deg = float(rng.uniform(-max_deg, max_deg))\n",
    "    h, w = img_uint8.shape[:2]\n",
    "    M = cv2.getRotationMatrix2D((w/2, h/2), deg, 1.0)\n",
    "    return cv2.warpAffine(img_uint8, M, (w, h), flags=cv2.INTER_LINEAR, borderMode=cv2.BORDER_REFLECT_101)\n",
    "\n",
    "def random_crop_and_resize(img_uint8, scale=(0.88, 1.0)):\n",
    "    h, w = img_uint8.shape[:2]\n",
    "    s = float(rng.uniform(scale[0], scale[1]))\n",
    "    new_h, new_w = int(h * s), int(w * s)\n",
    "    max_y = max(h - new_h, 0); max_x = max(w - new_w, 0)\n",
    "    y0 = int(rng.integers(0, max_y + 1)) if max_y > 0 else 0\n",
    "    x0 = int(rng.integers(0, max_x + 1)) if max_x > 0 else 0\n",
    "    crop = img_uint8[y0:y0 + new_h, x0:x0 + new_w, :]\n",
    "    return cv2.resize(crop, (w, h), interpolation=cv2.INTER_AREA)\n",
    "\n",
    "def random_brightness_contrast(img_f, b_lim=0.15, c_lim=0.15, p=0.8):\n",
    "    if rng.random() > p:\n",
    "        return img_f\n",
    "    brightness = float(rng.uniform(-b_lim, b_lim))\n",
    "    contrast   = 1.0 + float(rng.uniform(-c_lim, c_lim))\n",
    "    out = img_f * contrast + brightness\n",
    "    return np.clip(out, 0.0, 1.0)\n",
    "\n",
    "def add_gaussian_noise(img_f, sigma=0.02, p=0.3):\n",
    "    if rng.random() > p:\n",
    "        return img_f\n",
    "    noise = rng.normal(0.0, sigma, img_f.shape).astype(np.float32)\n",
    "    out = img_f + noise\n",
    "    return np.clip(out, 0.0, 1.0)\n",
    "\n",
    "def augment_once(img_uint8):\n",
    "    # geometric ops on uint8, then photometric on float\n",
    "    y = random_hflip(img_uint8, p=0.5)\n",
    "    y = random_rotate(y, max_deg=10)\n",
    "    y = random_crop_and_resize(y, scale=(0.88, 1.0))\n",
    "    y = y.astype(np.float32) / 255.0 if NORMALIZE_01 else y.astype(np.float32)\n",
    "    y = random_brightness_contrast(y, b_lim=0.15, c_lim=0.15, p=0.8)\n",
    "    y = add_gaussian_noise(y, sigma=0.02, p=0.3)\n",
    "    return y"
   ]
  },
  {
   "cell_type": "code",
   "execution_count": null,
   "id": "578c59597e90fcc0",
   "metadata": {
    "ExecuteTime": {
     "end_time": "2025-09-29T19:54:35.666506Z",
     "start_time": "2025-09-29T19:54:34.741724Z"
    }
   },
   "outputs": [],
   "source": [
    "# quick check: one image (original vs augmented)\n",
    "\n",
    "# reopen memmap in case of kernel restarts\n",
    "X_mm = np.memmap(mm_path, dtype=np.uint8, mode='r', shape=out_shape)\n",
    "\n",
    "i = int(rng.integers(0, len(idx_train)))        # random training index (in split space)\n",
    "j = idx_train[i]                                 # actual dataset index\n",
    "orig = X_mm[j]                                   # uint8 RGB\n",
    "aug  = augment_once(orig)                        # float32 in [0,1]\n",
    "\n",
    "plt.figure(figsize=(8,4))\n",
    "plt.subplot(1,2,1); plt.imshow(orig); plt.title(\"Original\"); plt.axis(\"off\")\n",
    "plt.subplot(1,2,2); plt.imshow(aug);  plt.title(\"Augmented\"); plt.axis(\"off\")\n",
    "plt.tight_layout(); plt.show()\n"
   ]
  },
  {
   "cell_type": "code",
   "execution_count": 17,
   "id": "49fda4c42345c77f",
   "metadata": {
    "ExecuteTime": {
     "end_time": "2025-09-29T19:46:49.434487Z",
     "start_time": "2025-09-29T19:46:49.393331Z"
    }
   },
   "outputs": [
    {
     "name": "stdout",
     "output_type": "stream",
     "text": [
      "Example weights: [0.38990846 1.2536415  0.52623534 4.3121166  0.38990846 1.2536415\n",
      " 0.89235085 0.52623534 0.89235085 0.52623534]\n"
     ]
    }
   ],
   "source": [
    "# SAMPLE WEIGHTS (inverse-frequency by bin)\n",
    "def make_sample_weights(bins):\n",
    "    counts = Counter(bins)\n",
    "    n = len(bins); K = len(counts)\n",
    "    return np.array([n / (K * counts[b]) for b in bins], dtype=np.float32)\n",
    "\n",
    "train_weights = make_sample_weights(bins_train)\n",
    "print(\"Example weights:\", train_weights[:10])"
   ]
  },
  {
   "cell_type": "code",
   "execution_count": null,
   "id": "6a2e44476fc3bf7f",
   "metadata": {
    "ExecuteTime": {
     "end_time": "2025-09-29T19:57:53.555921Z",
     "start_time": "2025-09-29T19:57:53.386450Z"
    }
   },
   "outputs": [],
   "source": [
    "#average weight per bin (so we can see how weighting scales each age group)\n",
    "unique_bins = sorted(set(bins_train))\n",
    "avg_weights = [train_weights[np.array(bins_train) == b].mean() for b in unique_bins]\n",
    "\n",
    "bin_labels = []\n",
    "for i in unique_bins:\n",
    "    lo, hi = AGE_BINS[i], AGE_BINS[i+1]\n",
    "    if i < len(AGE_BINS) - 2:\n",
    "        bin_labels.append(f\"{lo}–{hi-1}\")\n",
    "    else:\n",
    "        bin_labels.append(f\"{lo}+\")\n",
    "\n",
    "plt.figure(figsize=(10,5))\n",
    "plt.bar(bin_labels, avg_weights, color=\"tomato\", alpha=0.7)\n",
    "plt.xlabel(\"Age bins\")\n",
    "plt.ylabel(\"Average sample weight\")\n",
    "plt.title(\"Inverse-frequency sample weights per age bin\")\n",
    "plt.grid(axis=\"y\", linestyle=\"--\", alpha=0.6)\n",
    "plt.show()"
   ]
  },
  {
   "cell_type": "code",
   "execution_count": 20,
   "id": "78b7e00bbbbb53e5",
   "metadata": {
    "ExecuteTime": {
     "end_time": "2025-09-29T19:46:56.210551Z",
     "start_time": "2025-09-29T19:46:55.979754Z"
    }
   },
   "outputs": [
    {
     "name": "stdout",
     "output_type": "stream",
     "text": [
      "Debug batch: (8, 224, 224, 3) (8,) (8,) float32\n"
     ]
    }
   ],
   "source": [
    "# BATCH GENERATORS FROM MEMMAP\n",
    "\n",
    "# reopen memmap in read-only mode (robust if kernel restarts)\n",
    "X_mm = np.memmap(mm_path, dtype=np.uint8, mode='r', shape=out_shape)\n",
    "\n",
    "def train_batch_generator(idx_array, y_array, sample_weights=None, batch_size=32, shuffle=True):\n",
    "    n = len(idx_array)\n",
    "    order = np.arange(n)\n",
    "    while True:\n",
    "        if shuffle:\n",
    "            rng.shuffle(order)\n",
    "        for start in range(0, n, batch_size):\n",
    "            sel = order[start:start+batch_size]\n",
    "            idxs = idx_array[sel]\n",
    "            bx = np.empty((len(idxs),) + X_mm.shape[1:], dtype=np.float32)\n",
    "            for i, j in enumerate(idxs):\n",
    "                bx[i] = augment_once(X_mm[j])\n",
    "            by = y_array[sel]\n",
    "            if sample_weights is not None:\n",
    "                bw = sample_weights[sel]\n",
    "                yield bx, by, bw\n",
    "            else:\n",
    "                yield bx, by\n",
    "\n",
    "def val_batch_iterator(idx_array, y_array, batch_size=32):\n",
    "    # No augmentation for val/test\n",
    "    n = len(idx_array)\n",
    "    for start in range(0, n, batch_size):\n",
    "        sel = idx_array[start:start+batch_size]\n",
    "        bx = (X_mm[sel].astype(np.float32) / 255.0) if NORMALIZE_01 else X_mm[sel].astype(np.float32)\n",
    "        by = y_array[start:start+batch_size]\n",
    "        yield bx, by\n",
    "\n",
    "# Debug one batch:\n",
    "dbg_gen = train_batch_generator(idx_train, ages_train, sample_weights=train_weights, batch_size=8)\n",
    "dbg_X, dbg_y, dbg_w = next(dbg_gen)\n",
    "print(\"Debug batch:\", dbg_X.shape, dbg_y.shape, dbg_w.shape, dbg_X.dtype)"
   ]
  },
  {
   "cell_type": "code",
   "execution_count": 22,
   "id": "36a7481f8e76e2f6",
   "metadata": {
    "ExecuteTime": {
     "end_time": "2025-09-29T20:01:06.169022Z",
     "start_time": "2025-09-29T20:01:06.161310Z"
    }
   },
   "outputs": [
    {
     "name": "stdout",
     "output_type": "stream",
     "text": [
      "torch.Size([8, 3, 224, 224]) torch.Size([8]) torch.Size([8])\n"
     ]
    }
   ],
   "source": [
    "import torch\n",
    "\n",
    "X_t = torch.from_numpy(dbg_X).permute(0, 3, 1, 2)  # NHWC -> NCHW\n",
    "y_t = torch.from_numpy(dbg_y).float()\n",
    "w_t = torch.from_numpy(dbg_w).float()\n",
    "\n",
    "print(X_t.shape, y_t.shape, w_t.shape)  # -> torch.Size([8, 3, 224, 224]) torch.Size([8]) torch.Size([8])"
   ]
  },
  {
   "cell_type": "code",
   "execution_count": null,
   "id": "fb4f5691c0eab9a4",
   "metadata": {
    "ExecuteTime": {
     "end_time": "2025-09-29T20:02:13.959776Z",
     "start_time": "2025-09-29T20:02:12.407003Z"
    }
   },
   "outputs": [],
   "source": [
    "fig, axes = plt.subplots(2, 4, figsize=(10,5))\n",
    "for ax, img, age in zip(axes.ravel(), dbg_X, dbg_y):\n",
    "    ax.imshow(img)                 # img already in RGB [0,1]\n",
    "    ax.set_title(f\"age={int(age)}\")\n",
    "    ax.axis(\"off\")\n",
    "plt.tight_layout(); plt.show()"
   ]
  },
  {
   "cell_type": "code",
   "execution_count": null,
   "id": "a176a5c7e4b18c79",
   "metadata": {
    "ExecuteTime": {
     "end_time": "2025-09-29T20:06:10.815129Z",
     "start_time": "2025-09-29T20:06:08.230059Z"
    }
   },
   "outputs": [],
   "source": [
    "X_mm = np.memmap(mm_path, dtype=np.uint8, mode='r', shape=out_shape)\n",
    "\n",
    "# Pick one random training sample\n",
    "j = int(rng.choice(idx_train))\n",
    "orig = X_mm[j]\n",
    "\n",
    "# Show original + k augmentations\n",
    "k = 7\n",
    "plt.figure(figsize=(15, 4))\n",
    "\n",
    "plt.subplot(1, k+1, 1)\n",
    "plt.imshow(orig)\n",
    "plt.title(\"Original\")\n",
    "plt.axis(\"off\")\n",
    "\n",
    "for i in range(k):\n",
    "    aug = augment_once(orig)\n",
    "    plt.subplot(1, k+1, i+2)\n",
    "    plt.imshow(aug)\n",
    "    plt.title(f\"Aug {i+1}\")\n",
    "    plt.axis(\"off\")\n",
    "\n",
    "plt.tight_layout()\n",
    "plt.show()"
   ]
  },
  {
   "cell_type": "code",
   "execution_count": 25,
   "id": "826a7021612765a4",
   "metadata": {
    "ExecuteTime": {
     "end_time": "2025-09-29T20:07:29.221058Z",
     "start_time": "2025-09-29T20:06:27.411274Z"
    }
   },
   "outputs": [
    {
     "name": "stdout",
     "output_type": "stream",
     "text": [
      "Channel mean: [0.5391406  0.46926507 0.43062425] std: [0.29134238 0.29027712 0.29893532]\n"
     ]
    }
   ],
   "source": [
    "# MEAN/STD (for STANDARDIZE=True later)\n",
    "sum_ = np.zeros(3, dtype=np.float64)\n",
    "sum_sq = np.zeros(3, dtype=np.float64)\n",
    "count = 0\n",
    "\n",
    "CHUNK = 512\n",
    "for start in range(0, len(X_mm), CHUNK):\n",
    "    end = min(start + CHUNK, len(X_mm))\n",
    "    batch = X_mm[start:end].astype(np.float32) / 255.0\n",
    "    sum_   += batch.sum(axis=(0,1,2))\n",
    "    sum_sq += (batch**2).sum(axis=(0,1,2))\n",
    "    count  += (batch.shape[0] * batch.shape[1] * batch.shape[2])\n",
    "\n",
    "channel_mean = (sum_ / count).astype(np.float32)\n",
    "channel_var  = (sum_sq / count) - (channel_mean**2)\n",
    "channel_std  = np.sqrt(np.maximum(channel_var, 1e-12)).astype(np.float32)\n",
    "\n",
    "print(\"Channel mean:\", channel_mean, \"std:\", channel_std)"
   ]
  },
  {
   "cell_type": "code",
   "execution_count": 26,
   "id": "fb647bedc1499b34",
   "metadata": {
    "ExecuteTime": {
     "end_time": "2025-09-29T20:08:28.901265Z",
     "start_time": "2025-09-29T20:08:28.807542Z"
    }
   },
   "outputs": [
    {
     "name": "stdout",
     "output_type": "stream",
     "text": [
      "Torch batch shapes: torch.Size([16, 3, 224, 224]) torch.Size([16]) torch.Size([16])\n"
     ]
    }
   ],
   "source": [
    "# PyTorch adapter for generators\n",
    "def torchify_batch(batch):\n",
    "    # convert (numpy arrays) -> (torch tensors)\n",
    "    if len(batch) == 3:  # with sample weights\n",
    "        X, y, w = batch\n",
    "        return (torch.from_numpy(X).permute(0, 3, 1, 2),  # NHWC -> NCHW\n",
    "                torch.from_numpy(y).float(),\n",
    "                torch.from_numpy(w).float())\n",
    "    else:\n",
    "        X, y = batch\n",
    "        return (torch.from_numpy(X).permute(0, 3, 1, 2),\n",
    "                torch.from_numpy(y).float())\n",
    "\n",
    "# Example: get one batch from a train generator\n",
    "dbg_gen = train_batch_generator(idx_train, ages_train,\n",
    "                                sample_weights=train_weights,\n",
    "                                batch_size=16)\n",
    "\n",
    "X_np, y_np, w_np = next(dbg_gen)\n",
    "X_t, y_t, w_t = torchify_batch((X_np, y_np, w_np))\n",
    "\n",
    "print(\"Torch batch shapes:\", X_t.shape, y_t.shape, w_t.shape)"
   ]
  },
  {
   "cell_type": "markdown",
   "id": "4d6db6a3",
   "metadata": {},
   "source": [
    "4. Modell-Erstellung"
   ]
  },
  {
   "cell_type": "code",
   "execution_count": 3,
   "id": "d71fd3d7",
   "metadata": {},
   "outputs": [],
   "source": [
    "from tensorflow.keras import layers, models, regularizers"
   ]
  },
  {
   "cell_type": "code",
   "execution_count": 14,
   "id": "6e7cd337",
   "metadata": {},
   "outputs": [
    {
     "data": {
      "text/html": [
       "<pre style=\"white-space:pre;overflow-x:auto;line-height:normal;font-family:Menlo,'DejaVu Sans Mono',consolas,'Courier New',monospace\"><span style=\"font-weight: bold\">Model: \"sequential_1\"</span>\n",
       "</pre>\n"
      ],
      "text/plain": [
       "\u001b[1mModel: \"sequential_1\"\u001b[0m\n"
      ]
     },
     "metadata": {},
     "output_type": "display_data"
    },
    {
     "data": {
      "text/html": [
       "<pre style=\"white-space:pre;overflow-x:auto;line-height:normal;font-family:Menlo,'DejaVu Sans Mono',consolas,'Courier New',monospace\">┏━━━━━━━━━━━━━━━━━━━━━━━━━━━━━━━━━┳━━━━━━━━━━━━━━━━━━━━━━━━┳━━━━━━━━━━━━━━━┓\n",
       "┃<span style=\"font-weight: bold\"> Layer (type)                    </span>┃<span style=\"font-weight: bold\"> Output Shape           </span>┃<span style=\"font-weight: bold\">       Param # </span>┃\n",
       "┡━━━━━━━━━━━━━━━━━━━━━━━━━━━━━━━━━╇━━━━━━━━━━━━━━━━━━━━━━━━╇━━━━━━━━━━━━━━━┩\n",
       "│ conv2d_6 (<span style=\"color: #0087ff; text-decoration-color: #0087ff\">Conv2D</span>)               │ (<span style=\"color: #00d7ff; text-decoration-color: #00d7ff\">None</span>, <span style=\"color: #00af00; text-decoration-color: #00af00\">224</span>, <span style=\"color: #00af00; text-decoration-color: #00af00\">224</span>, <span style=\"color: #00af00; text-decoration-color: #00af00\">32</span>)   │           <span style=\"color: #00af00; text-decoration-color: #00af00\">896</span> │\n",
       "├─────────────────────────────────┼────────────────────────┼───────────────┤\n",
       "│ batch_normalization_7           │ (<span style=\"color: #00d7ff; text-decoration-color: #00d7ff\">None</span>, <span style=\"color: #00af00; text-decoration-color: #00af00\">224</span>, <span style=\"color: #00af00; text-decoration-color: #00af00\">224</span>, <span style=\"color: #00af00; text-decoration-color: #00af00\">32</span>)   │           <span style=\"color: #00af00; text-decoration-color: #00af00\">128</span> │\n",
       "│ (<span style=\"color: #0087ff; text-decoration-color: #0087ff\">BatchNormalization</span>)            │                        │               │\n",
       "├─────────────────────────────────┼────────────────────────┼───────────────┤\n",
       "│ conv2d_7 (<span style=\"color: #0087ff; text-decoration-color: #0087ff\">Conv2D</span>)               │ (<span style=\"color: #00d7ff; text-decoration-color: #00d7ff\">None</span>, <span style=\"color: #00af00; text-decoration-color: #00af00\">224</span>, <span style=\"color: #00af00; text-decoration-color: #00af00\">224</span>, <span style=\"color: #00af00; text-decoration-color: #00af00\">32</span>)   │         <span style=\"color: #00af00; text-decoration-color: #00af00\">9,248</span> │\n",
       "├─────────────────────────────────┼────────────────────────┼───────────────┤\n",
       "│ batch_normalization_8           │ (<span style=\"color: #00d7ff; text-decoration-color: #00d7ff\">None</span>, <span style=\"color: #00af00; text-decoration-color: #00af00\">224</span>, <span style=\"color: #00af00; text-decoration-color: #00af00\">224</span>, <span style=\"color: #00af00; text-decoration-color: #00af00\">32</span>)   │           <span style=\"color: #00af00; text-decoration-color: #00af00\">128</span> │\n",
       "│ (<span style=\"color: #0087ff; text-decoration-color: #0087ff\">BatchNormalization</span>)            │                        │               │\n",
       "├─────────────────────────────────┼────────────────────────┼───────────────┤\n",
       "│ max_pooling2d_3 (<span style=\"color: #0087ff; text-decoration-color: #0087ff\">MaxPooling2D</span>)  │ (<span style=\"color: #00d7ff; text-decoration-color: #00d7ff\">None</span>, <span style=\"color: #00af00; text-decoration-color: #00af00\">112</span>, <span style=\"color: #00af00; text-decoration-color: #00af00\">112</span>, <span style=\"color: #00af00; text-decoration-color: #00af00\">32</span>)   │             <span style=\"color: #00af00; text-decoration-color: #00af00\">0</span> │\n",
       "├─────────────────────────────────┼────────────────────────┼───────────────┤\n",
       "│ dropout_5 (<span style=\"color: #0087ff; text-decoration-color: #0087ff\">Dropout</span>)             │ (<span style=\"color: #00d7ff; text-decoration-color: #00d7ff\">None</span>, <span style=\"color: #00af00; text-decoration-color: #00af00\">112</span>, <span style=\"color: #00af00; text-decoration-color: #00af00\">112</span>, <span style=\"color: #00af00; text-decoration-color: #00af00\">32</span>)   │             <span style=\"color: #00af00; text-decoration-color: #00af00\">0</span> │\n",
       "├─────────────────────────────────┼────────────────────────┼───────────────┤\n",
       "│ conv2d_8 (<span style=\"color: #0087ff; text-decoration-color: #0087ff\">Conv2D</span>)               │ (<span style=\"color: #00d7ff; text-decoration-color: #00d7ff\">None</span>, <span style=\"color: #00af00; text-decoration-color: #00af00\">112</span>, <span style=\"color: #00af00; text-decoration-color: #00af00\">112</span>, <span style=\"color: #00af00; text-decoration-color: #00af00\">64</span>)   │        <span style=\"color: #00af00; text-decoration-color: #00af00\">18,496</span> │\n",
       "├─────────────────────────────────┼────────────────────────┼───────────────┤\n",
       "│ batch_normalization_9           │ (<span style=\"color: #00d7ff; text-decoration-color: #00d7ff\">None</span>, <span style=\"color: #00af00; text-decoration-color: #00af00\">112</span>, <span style=\"color: #00af00; text-decoration-color: #00af00\">112</span>, <span style=\"color: #00af00; text-decoration-color: #00af00\">64</span>)   │           <span style=\"color: #00af00; text-decoration-color: #00af00\">256</span> │\n",
       "│ (<span style=\"color: #0087ff; text-decoration-color: #0087ff\">BatchNormalization</span>)            │                        │               │\n",
       "├─────────────────────────────────┼────────────────────────┼───────────────┤\n",
       "│ conv2d_9 (<span style=\"color: #0087ff; text-decoration-color: #0087ff\">Conv2D</span>)               │ (<span style=\"color: #00d7ff; text-decoration-color: #00d7ff\">None</span>, <span style=\"color: #00af00; text-decoration-color: #00af00\">112</span>, <span style=\"color: #00af00; text-decoration-color: #00af00\">112</span>, <span style=\"color: #00af00; text-decoration-color: #00af00\">64</span>)   │        <span style=\"color: #00af00; text-decoration-color: #00af00\">36,928</span> │\n",
       "├─────────────────────────────────┼────────────────────────┼───────────────┤\n",
       "│ batch_normalization_10          │ (<span style=\"color: #00d7ff; text-decoration-color: #00d7ff\">None</span>, <span style=\"color: #00af00; text-decoration-color: #00af00\">112</span>, <span style=\"color: #00af00; text-decoration-color: #00af00\">112</span>, <span style=\"color: #00af00; text-decoration-color: #00af00\">64</span>)   │           <span style=\"color: #00af00; text-decoration-color: #00af00\">256</span> │\n",
       "│ (<span style=\"color: #0087ff; text-decoration-color: #0087ff\">BatchNormalization</span>)            │                        │               │\n",
       "├─────────────────────────────────┼────────────────────────┼───────────────┤\n",
       "│ max_pooling2d_4 (<span style=\"color: #0087ff; text-decoration-color: #0087ff\">MaxPooling2D</span>)  │ (<span style=\"color: #00d7ff; text-decoration-color: #00d7ff\">None</span>, <span style=\"color: #00af00; text-decoration-color: #00af00\">56</span>, <span style=\"color: #00af00; text-decoration-color: #00af00\">56</span>, <span style=\"color: #00af00; text-decoration-color: #00af00\">64</span>)     │             <span style=\"color: #00af00; text-decoration-color: #00af00\">0</span> │\n",
       "├─────────────────────────────────┼────────────────────────┼───────────────┤\n",
       "│ dropout_6 (<span style=\"color: #0087ff; text-decoration-color: #0087ff\">Dropout</span>)             │ (<span style=\"color: #00d7ff; text-decoration-color: #00d7ff\">None</span>, <span style=\"color: #00af00; text-decoration-color: #00af00\">56</span>, <span style=\"color: #00af00; text-decoration-color: #00af00\">56</span>, <span style=\"color: #00af00; text-decoration-color: #00af00\">64</span>)     │             <span style=\"color: #00af00; text-decoration-color: #00af00\">0</span> │\n",
       "├─────────────────────────────────┼────────────────────────┼───────────────┤\n",
       "│ conv2d_10 (<span style=\"color: #0087ff; text-decoration-color: #0087ff\">Conv2D</span>)              │ (<span style=\"color: #00d7ff; text-decoration-color: #00d7ff\">None</span>, <span style=\"color: #00af00; text-decoration-color: #00af00\">56</span>, <span style=\"color: #00af00; text-decoration-color: #00af00\">56</span>, <span style=\"color: #00af00; text-decoration-color: #00af00\">128</span>)    │        <span style=\"color: #00af00; text-decoration-color: #00af00\">73,856</span> │\n",
       "├─────────────────────────────────┼────────────────────────┼───────────────┤\n",
       "│ batch_normalization_11          │ (<span style=\"color: #00d7ff; text-decoration-color: #00d7ff\">None</span>, <span style=\"color: #00af00; text-decoration-color: #00af00\">56</span>, <span style=\"color: #00af00; text-decoration-color: #00af00\">56</span>, <span style=\"color: #00af00; text-decoration-color: #00af00\">128</span>)    │           <span style=\"color: #00af00; text-decoration-color: #00af00\">512</span> │\n",
       "│ (<span style=\"color: #0087ff; text-decoration-color: #0087ff\">BatchNormalization</span>)            │                        │               │\n",
       "├─────────────────────────────────┼────────────────────────┼───────────────┤\n",
       "│ conv2d_11 (<span style=\"color: #0087ff; text-decoration-color: #0087ff\">Conv2D</span>)              │ (<span style=\"color: #00d7ff; text-decoration-color: #00d7ff\">None</span>, <span style=\"color: #00af00; text-decoration-color: #00af00\">56</span>, <span style=\"color: #00af00; text-decoration-color: #00af00\">56</span>, <span style=\"color: #00af00; text-decoration-color: #00af00\">128</span>)    │       <span style=\"color: #00af00; text-decoration-color: #00af00\">147,584</span> │\n",
       "├─────────────────────────────────┼────────────────────────┼───────────────┤\n",
       "│ batch_normalization_12          │ (<span style=\"color: #00d7ff; text-decoration-color: #00d7ff\">None</span>, <span style=\"color: #00af00; text-decoration-color: #00af00\">56</span>, <span style=\"color: #00af00; text-decoration-color: #00af00\">56</span>, <span style=\"color: #00af00; text-decoration-color: #00af00\">128</span>)    │           <span style=\"color: #00af00; text-decoration-color: #00af00\">512</span> │\n",
       "│ (<span style=\"color: #0087ff; text-decoration-color: #0087ff\">BatchNormalization</span>)            │                        │               │\n",
       "├─────────────────────────────────┼────────────────────────┼───────────────┤\n",
       "│ max_pooling2d_5 (<span style=\"color: #0087ff; text-decoration-color: #0087ff\">MaxPooling2D</span>)  │ (<span style=\"color: #00d7ff; text-decoration-color: #00d7ff\">None</span>, <span style=\"color: #00af00; text-decoration-color: #00af00\">28</span>, <span style=\"color: #00af00; text-decoration-color: #00af00\">28</span>, <span style=\"color: #00af00; text-decoration-color: #00af00\">128</span>)    │             <span style=\"color: #00af00; text-decoration-color: #00af00\">0</span> │\n",
       "├─────────────────────────────────┼────────────────────────┼───────────────┤\n",
       "│ dropout_7 (<span style=\"color: #0087ff; text-decoration-color: #0087ff\">Dropout</span>)             │ (<span style=\"color: #00d7ff; text-decoration-color: #00d7ff\">None</span>, <span style=\"color: #00af00; text-decoration-color: #00af00\">28</span>, <span style=\"color: #00af00; text-decoration-color: #00af00\">28</span>, <span style=\"color: #00af00; text-decoration-color: #00af00\">128</span>)    │             <span style=\"color: #00af00; text-decoration-color: #00af00\">0</span> │\n",
       "├─────────────────────────────────┼────────────────────────┼───────────────┤\n",
       "│ flatten_1 (<span style=\"color: #0087ff; text-decoration-color: #0087ff\">Flatten</span>)             │ (<span style=\"color: #00d7ff; text-decoration-color: #00d7ff\">None</span>, <span style=\"color: #00af00; text-decoration-color: #00af00\">100352</span>)         │             <span style=\"color: #00af00; text-decoration-color: #00af00\">0</span> │\n",
       "├─────────────────────────────────┼────────────────────────┼───────────────┤\n",
       "│ dense_3 (<span style=\"color: #0087ff; text-decoration-color: #0087ff\">Dense</span>)                 │ (<span style=\"color: #00d7ff; text-decoration-color: #00d7ff\">None</span>, <span style=\"color: #00af00; text-decoration-color: #00af00\">256</span>)            │    <span style=\"color: #00af00; text-decoration-color: #00af00\">25,690,368</span> │\n",
       "├─────────────────────────────────┼────────────────────────┼───────────────┤\n",
       "│ batch_normalization_13          │ (<span style=\"color: #00d7ff; text-decoration-color: #00d7ff\">None</span>, <span style=\"color: #00af00; text-decoration-color: #00af00\">256</span>)            │         <span style=\"color: #00af00; text-decoration-color: #00af00\">1,024</span> │\n",
       "│ (<span style=\"color: #0087ff; text-decoration-color: #0087ff\">BatchNormalization</span>)            │                        │               │\n",
       "├─────────────────────────────────┼────────────────────────┼───────────────┤\n",
       "│ dropout_8 (<span style=\"color: #0087ff; text-decoration-color: #0087ff\">Dropout</span>)             │ (<span style=\"color: #00d7ff; text-decoration-color: #00d7ff\">None</span>, <span style=\"color: #00af00; text-decoration-color: #00af00\">256</span>)            │             <span style=\"color: #00af00; text-decoration-color: #00af00\">0</span> │\n",
       "├─────────────────────────────────┼────────────────────────┼───────────────┤\n",
       "│ dense_4 (<span style=\"color: #0087ff; text-decoration-color: #0087ff\">Dense</span>)                 │ (<span style=\"color: #00d7ff; text-decoration-color: #00d7ff\">None</span>, <span style=\"color: #00af00; text-decoration-color: #00af00\">64</span>)             │        <span style=\"color: #00af00; text-decoration-color: #00af00\">16,448</span> │\n",
       "├─────────────────────────────────┼────────────────────────┼───────────────┤\n",
       "│ dropout_9 (<span style=\"color: #0087ff; text-decoration-color: #0087ff\">Dropout</span>)             │ (<span style=\"color: #00d7ff; text-decoration-color: #00d7ff\">None</span>, <span style=\"color: #00af00; text-decoration-color: #00af00\">64</span>)             │             <span style=\"color: #00af00; text-decoration-color: #00af00\">0</span> │\n",
       "├─────────────────────────────────┼────────────────────────┼───────────────┤\n",
       "│ dense_5 (<span style=\"color: #0087ff; text-decoration-color: #0087ff\">Dense</span>)                 │ (<span style=\"color: #00d7ff; text-decoration-color: #00d7ff\">None</span>, <span style=\"color: #00af00; text-decoration-color: #00af00\">1</span>)              │            <span style=\"color: #00af00; text-decoration-color: #00af00\">65</span> │\n",
       "└─────────────────────────────────┴────────────────────────┴───────────────┘\n",
       "</pre>\n"
      ],
      "text/plain": [
       "┏━━━━━━━━━━━━━━━━━━━━━━━━━━━━━━━━━┳━━━━━━━━━━━━━━━━━━━━━━━━┳━━━━━━━━━━━━━━━┓\n",
       "┃\u001b[1m \u001b[0m\u001b[1mLayer (type)                   \u001b[0m\u001b[1m \u001b[0m┃\u001b[1m \u001b[0m\u001b[1mOutput Shape          \u001b[0m\u001b[1m \u001b[0m┃\u001b[1m \u001b[0m\u001b[1m      Param #\u001b[0m\u001b[1m \u001b[0m┃\n",
       "┡━━━━━━━━━━━━━━━━━━━━━━━━━━━━━━━━━╇━━━━━━━━━━━━━━━━━━━━━━━━╇━━━━━━━━━━━━━━━┩\n",
       "│ conv2d_6 (\u001b[38;5;33mConv2D\u001b[0m)               │ (\u001b[38;5;45mNone\u001b[0m, \u001b[38;5;34m224\u001b[0m, \u001b[38;5;34m224\u001b[0m, \u001b[38;5;34m32\u001b[0m)   │           \u001b[38;5;34m896\u001b[0m │\n",
       "├─────────────────────────────────┼────────────────────────┼───────────────┤\n",
       "│ batch_normalization_7           │ (\u001b[38;5;45mNone\u001b[0m, \u001b[38;5;34m224\u001b[0m, \u001b[38;5;34m224\u001b[0m, \u001b[38;5;34m32\u001b[0m)   │           \u001b[38;5;34m128\u001b[0m │\n",
       "│ (\u001b[38;5;33mBatchNormalization\u001b[0m)            │                        │               │\n",
       "├─────────────────────────────────┼────────────────────────┼───────────────┤\n",
       "│ conv2d_7 (\u001b[38;5;33mConv2D\u001b[0m)               │ (\u001b[38;5;45mNone\u001b[0m, \u001b[38;5;34m224\u001b[0m, \u001b[38;5;34m224\u001b[0m, \u001b[38;5;34m32\u001b[0m)   │         \u001b[38;5;34m9,248\u001b[0m │\n",
       "├─────────────────────────────────┼────────────────────────┼───────────────┤\n",
       "│ batch_normalization_8           │ (\u001b[38;5;45mNone\u001b[0m, \u001b[38;5;34m224\u001b[0m, \u001b[38;5;34m224\u001b[0m, \u001b[38;5;34m32\u001b[0m)   │           \u001b[38;5;34m128\u001b[0m │\n",
       "│ (\u001b[38;5;33mBatchNormalization\u001b[0m)            │                        │               │\n",
       "├─────────────────────────────────┼────────────────────────┼───────────────┤\n",
       "│ max_pooling2d_3 (\u001b[38;5;33mMaxPooling2D\u001b[0m)  │ (\u001b[38;5;45mNone\u001b[0m, \u001b[38;5;34m112\u001b[0m, \u001b[38;5;34m112\u001b[0m, \u001b[38;5;34m32\u001b[0m)   │             \u001b[38;5;34m0\u001b[0m │\n",
       "├─────────────────────────────────┼────────────────────────┼───────────────┤\n",
       "│ dropout_5 (\u001b[38;5;33mDropout\u001b[0m)             │ (\u001b[38;5;45mNone\u001b[0m, \u001b[38;5;34m112\u001b[0m, \u001b[38;5;34m112\u001b[0m, \u001b[38;5;34m32\u001b[0m)   │             \u001b[38;5;34m0\u001b[0m │\n",
       "├─────────────────────────────────┼────────────────────────┼───────────────┤\n",
       "│ conv2d_8 (\u001b[38;5;33mConv2D\u001b[0m)               │ (\u001b[38;5;45mNone\u001b[0m, \u001b[38;5;34m112\u001b[0m, \u001b[38;5;34m112\u001b[0m, \u001b[38;5;34m64\u001b[0m)   │        \u001b[38;5;34m18,496\u001b[0m │\n",
       "├─────────────────────────────────┼────────────────────────┼───────────────┤\n",
       "│ batch_normalization_9           │ (\u001b[38;5;45mNone\u001b[0m, \u001b[38;5;34m112\u001b[0m, \u001b[38;5;34m112\u001b[0m, \u001b[38;5;34m64\u001b[0m)   │           \u001b[38;5;34m256\u001b[0m │\n",
       "│ (\u001b[38;5;33mBatchNormalization\u001b[0m)            │                        │               │\n",
       "├─────────────────────────────────┼────────────────────────┼───────────────┤\n",
       "│ conv2d_9 (\u001b[38;5;33mConv2D\u001b[0m)               │ (\u001b[38;5;45mNone\u001b[0m, \u001b[38;5;34m112\u001b[0m, \u001b[38;5;34m112\u001b[0m, \u001b[38;5;34m64\u001b[0m)   │        \u001b[38;5;34m36,928\u001b[0m │\n",
       "├─────────────────────────────────┼────────────────────────┼───────────────┤\n",
       "│ batch_normalization_10          │ (\u001b[38;5;45mNone\u001b[0m, \u001b[38;5;34m112\u001b[0m, \u001b[38;5;34m112\u001b[0m, \u001b[38;5;34m64\u001b[0m)   │           \u001b[38;5;34m256\u001b[0m │\n",
       "│ (\u001b[38;5;33mBatchNormalization\u001b[0m)            │                        │               │\n",
       "├─────────────────────────────────┼────────────────────────┼───────────────┤\n",
       "│ max_pooling2d_4 (\u001b[38;5;33mMaxPooling2D\u001b[0m)  │ (\u001b[38;5;45mNone\u001b[0m, \u001b[38;5;34m56\u001b[0m, \u001b[38;5;34m56\u001b[0m, \u001b[38;5;34m64\u001b[0m)     │             \u001b[38;5;34m0\u001b[0m │\n",
       "├─────────────────────────────────┼────────────────────────┼───────────────┤\n",
       "│ dropout_6 (\u001b[38;5;33mDropout\u001b[0m)             │ (\u001b[38;5;45mNone\u001b[0m, \u001b[38;5;34m56\u001b[0m, \u001b[38;5;34m56\u001b[0m, \u001b[38;5;34m64\u001b[0m)     │             \u001b[38;5;34m0\u001b[0m │\n",
       "├─────────────────────────────────┼────────────────────────┼───────────────┤\n",
       "│ conv2d_10 (\u001b[38;5;33mConv2D\u001b[0m)              │ (\u001b[38;5;45mNone\u001b[0m, \u001b[38;5;34m56\u001b[0m, \u001b[38;5;34m56\u001b[0m, \u001b[38;5;34m128\u001b[0m)    │        \u001b[38;5;34m73,856\u001b[0m │\n",
       "├─────────────────────────────────┼────────────────────────┼───────────────┤\n",
       "│ batch_normalization_11          │ (\u001b[38;5;45mNone\u001b[0m, \u001b[38;5;34m56\u001b[0m, \u001b[38;5;34m56\u001b[0m, \u001b[38;5;34m128\u001b[0m)    │           \u001b[38;5;34m512\u001b[0m │\n",
       "│ (\u001b[38;5;33mBatchNormalization\u001b[0m)            │                        │               │\n",
       "├─────────────────────────────────┼────────────────────────┼───────────────┤\n",
       "│ conv2d_11 (\u001b[38;5;33mConv2D\u001b[0m)              │ (\u001b[38;5;45mNone\u001b[0m, \u001b[38;5;34m56\u001b[0m, \u001b[38;5;34m56\u001b[0m, \u001b[38;5;34m128\u001b[0m)    │       \u001b[38;5;34m147,584\u001b[0m │\n",
       "├─────────────────────────────────┼────────────────────────┼───────────────┤\n",
       "│ batch_normalization_12          │ (\u001b[38;5;45mNone\u001b[0m, \u001b[38;5;34m56\u001b[0m, \u001b[38;5;34m56\u001b[0m, \u001b[38;5;34m128\u001b[0m)    │           \u001b[38;5;34m512\u001b[0m │\n",
       "│ (\u001b[38;5;33mBatchNormalization\u001b[0m)            │                        │               │\n",
       "├─────────────────────────────────┼────────────────────────┼───────────────┤\n",
       "│ max_pooling2d_5 (\u001b[38;5;33mMaxPooling2D\u001b[0m)  │ (\u001b[38;5;45mNone\u001b[0m, \u001b[38;5;34m28\u001b[0m, \u001b[38;5;34m28\u001b[0m, \u001b[38;5;34m128\u001b[0m)    │             \u001b[38;5;34m0\u001b[0m │\n",
       "├─────────────────────────────────┼────────────────────────┼───────────────┤\n",
       "│ dropout_7 (\u001b[38;5;33mDropout\u001b[0m)             │ (\u001b[38;5;45mNone\u001b[0m, \u001b[38;5;34m28\u001b[0m, \u001b[38;5;34m28\u001b[0m, \u001b[38;5;34m128\u001b[0m)    │             \u001b[38;5;34m0\u001b[0m │\n",
       "├─────────────────────────────────┼────────────────────────┼───────────────┤\n",
       "│ flatten_1 (\u001b[38;5;33mFlatten\u001b[0m)             │ (\u001b[38;5;45mNone\u001b[0m, \u001b[38;5;34m100352\u001b[0m)         │             \u001b[38;5;34m0\u001b[0m │\n",
       "├─────────────────────────────────┼────────────────────────┼───────────────┤\n",
       "│ dense_3 (\u001b[38;5;33mDense\u001b[0m)                 │ (\u001b[38;5;45mNone\u001b[0m, \u001b[38;5;34m256\u001b[0m)            │    \u001b[38;5;34m25,690,368\u001b[0m │\n",
       "├─────────────────────────────────┼────────────────────────┼───────────────┤\n",
       "│ batch_normalization_13          │ (\u001b[38;5;45mNone\u001b[0m, \u001b[38;5;34m256\u001b[0m)            │         \u001b[38;5;34m1,024\u001b[0m │\n",
       "│ (\u001b[38;5;33mBatchNormalization\u001b[0m)            │                        │               │\n",
       "├─────────────────────────────────┼────────────────────────┼───────────────┤\n",
       "│ dropout_8 (\u001b[38;5;33mDropout\u001b[0m)             │ (\u001b[38;5;45mNone\u001b[0m, \u001b[38;5;34m256\u001b[0m)            │             \u001b[38;5;34m0\u001b[0m │\n",
       "├─────────────────────────────────┼────────────────────────┼───────────────┤\n",
       "│ dense_4 (\u001b[38;5;33mDense\u001b[0m)                 │ (\u001b[38;5;45mNone\u001b[0m, \u001b[38;5;34m64\u001b[0m)             │        \u001b[38;5;34m16,448\u001b[0m │\n",
       "├─────────────────────────────────┼────────────────────────┼───────────────┤\n",
       "│ dropout_9 (\u001b[38;5;33mDropout\u001b[0m)             │ (\u001b[38;5;45mNone\u001b[0m, \u001b[38;5;34m64\u001b[0m)             │             \u001b[38;5;34m0\u001b[0m │\n",
       "├─────────────────────────────────┼────────────────────────┼───────────────┤\n",
       "│ dense_5 (\u001b[38;5;33mDense\u001b[0m)                 │ (\u001b[38;5;45mNone\u001b[0m, \u001b[38;5;34m1\u001b[0m)              │            \u001b[38;5;34m65\u001b[0m │\n",
       "└─────────────────────────────────┴────────────────────────┴───────────────┘\n"
      ]
     },
     "metadata": {},
     "output_type": "display_data"
    },
    {
     "data": {
      "text/html": [
       "<pre style=\"white-space:pre;overflow-x:auto;line-height:normal;font-family:Menlo,'DejaVu Sans Mono',consolas,'Courier New',monospace\"><span style=\"font-weight: bold\"> Total params: </span><span style=\"color: #00af00; text-decoration-color: #00af00\">25,996,705</span> (99.17 MB)\n",
       "</pre>\n"
      ],
      "text/plain": [
       "\u001b[1m Total params: \u001b[0m\u001b[38;5;34m25,996,705\u001b[0m (99.17 MB)\n"
      ]
     },
     "metadata": {},
     "output_type": "display_data"
    },
    {
     "data": {
      "text/html": [
       "<pre style=\"white-space:pre;overflow-x:auto;line-height:normal;font-family:Menlo,'DejaVu Sans Mono',consolas,'Courier New',monospace\"><span style=\"font-weight: bold\"> Trainable params: </span><span style=\"color: #00af00; text-decoration-color: #00af00\">25,995,297</span> (99.16 MB)\n",
       "</pre>\n"
      ],
      "text/plain": [
       "\u001b[1m Trainable params: \u001b[0m\u001b[38;5;34m25,995,297\u001b[0m (99.16 MB)\n"
      ]
     },
     "metadata": {},
     "output_type": "display_data"
    },
    {
     "data": {
      "text/html": [
       "<pre style=\"white-space:pre;overflow-x:auto;line-height:normal;font-family:Menlo,'DejaVu Sans Mono',consolas,'Courier New',monospace\"><span style=\"font-weight: bold\"> Non-trainable params: </span><span style=\"color: #00af00; text-decoration-color: #00af00\">1,408</span> (5.50 KB)\n",
       "</pre>\n"
      ],
      "text/plain": [
       "\u001b[1m Non-trainable params: \u001b[0m\u001b[38;5;34m1,408\u001b[0m (5.50 KB)\n"
      ]
     },
     "metadata": {},
     "output_type": "display_data"
    }
   ],
   "source": [
    "model = models.Sequential([\n",
    "        # Block 1\n",
    "        layers.Conv2D(32, (3, 3), activation='relu', padding='same', input_shape=(224, 224, 3)),\n",
    "        layers.BatchNormalization(),\n",
    "        layers.Conv2D(32, (3, 3), activation='relu', padding='same'),\n",
    "        layers.BatchNormalization(),\n",
    "        layers.MaxPooling2D((2, 2)),\n",
    "        layers.Dropout(0.25),\n",
    "\n",
    "        # Block 2\n",
    "        layers.Conv2D(64, (3, 3), activation='relu', padding='same'),\n",
    "        layers.BatchNormalization(),\n",
    "        layers.Conv2D(64, (3, 3), activation='relu', padding='same'),\n",
    "        layers.BatchNormalization(),\n",
    "        layers.MaxPooling2D((2, 2)),\n",
    "        layers.Dropout(0.3),\n",
    "\n",
    "        # Block 3\n",
    "        layers.Conv2D(128, (3, 3), activation='relu', padding='same'),\n",
    "        layers.BatchNormalization(),\n",
    "        layers.Conv2D(128, (3, 3), activation='relu', padding='same'),\n",
    "        layers.BatchNormalization(),\n",
    "        layers.MaxPooling2D((2, 2)),\n",
    "        layers.Dropout(0.4),\n",
    "\n",
    "        # Dense Head\n",
    "        layers.Flatten(),\n",
    "        layers.Dense(256, activation='relu', kernel_regularizer=regularizers.l2(0.001)),\n",
    "        layers.BatchNormalization(),\n",
    "        layers.Dropout(0.5),\n",
    "        layers.Dense(64, activation='relu'),\n",
    "        layers.Dropout(0.3),\n",
    "\n",
    "        # Output Layer – Regression (Alter)\n",
    "        layers.Dense(1, activation='linear')\n",
    "])\n",
    "\n",
    "model.compile(optimizer='adam', loss='mae', metrics=['mae'])\n",
    "model.summary()"
   ]
  },
  {
   "cell_type": "markdown",
   "id": "23d35d52",
   "metadata": {},
   "source": [
    "Das Modell ist so aufgebaut, dass es Gesichter schrittweise von einfachen zu komplexeren Merkmalen analysiert. Es besteht aus drei Convolutional-Blöcken mit zunehmender Filteranzahl, die durch Batch Normalization stabilisiert und mithilfe von Dropout vor Overfitting geschützt werden. Anschließend kombinieren dichte Schichten die extrahierten Merkmale, um relevante Zusammenhänge für die Altersschätzung zu erkennen. Da es sich um eine Regressionsaufgabe handelt, besitzt das Modell eine lineare Ausgabeschicht mit nur einem Neuron. Als Loss-Funktion wird der Mean Absolute Error verwendet, da dieser gut interpretierbar und robust gegenüber Ausreißern ist."
   ]
  },
  {
   "cell_type": "markdown",
   "id": "ab1de9d5",
   "metadata": {},
   "source": [
    "5. Training"
   ]
  },
  {
   "cell_type": "code",
   "execution_count": null,
   "id": "4091cbe9",
   "metadata": {},
   "outputs": [],
   "source": [
    "#Setup the Imports & Data\n",
    "\n",
    "import numpy as np\n",
    "from sklearn.model_selection import train_test_split\n",
    "import tensorflow as tf\n",
    "from tensorflow.keras import callbacks\n",
    "\n",
    "# Load the memmap file created in step 3\n",
    "mm_path = \"preprocessed_images.dat\"\n",
    "N = len(ages)  # same length as your labels\n",
    "X_mm = np.memmap(mm_path, dtype=np.uint8, mode='r', shape=(N, 224, 224, 3))\n",
    "\n",
    "# Normalize to [0,1]\n",
    "X = X_mm.astype(np.float32) / 255.0\n",
    "y = np.array(ages, dtype=np.float32)\n",
    "\n",
    "# Split into train/validation/test\n",
    "X_train, X_temp, y_train, y_temp = train_test_split(X, y, test_size=0.3, random_state=42)\n",
    "X_val, X_test, y_val, y_test = train_test_split(X_temp, y_temp, test_size=0.5, random_state=42)\n",
    "\n",
    "print(f\"Train: {len(X_train)}, Val: {len(X_val)}, Test: {len(X_test)}\")\n"
   ]
  },
  {
   "cell_type": "code",
   "execution_count": 17,
   "id": "b4551b1c",
   "metadata": {},
   "outputs": [],
   "source": [
    "# Compile the model\n",
    "\n",
    "from tensorflow.keras import optimizers\n",
    "\n",
    "optimizer = optimizers.Adam(learning_rate=1e-4)\n",
    "\n",
    "model.compile(\n",
    "    optimizer=optimizer,\n",
    "    loss='mae',  # Mean Absolute Error (age difference)\n",
    "    metrics=['mae', 'mse']\n",
    ")\n"
   ]
  },
  {
   "cell_type": "code",
   "execution_count": 18,
   "id": "1426a236",
   "metadata": {},
   "outputs": [],
   "source": [
    "# Define Training Callbacks\n",
    "\n",
    "checkpoint_cb = callbacks.ModelCheckpoint(\n",
    "    \"best_age_model.h5\",\n",
    "    save_best_only=True,\n",
    "    monitor=\"val_mae\",\n",
    "    mode=\"min\"\n",
    ")\n",
    "\n",
    "reduce_lr_cb = callbacks.ReduceLROnPlateau(\n",
    "    monitor=\"val_loss\",\n",
    "    factor=0.5,\n",
    "    patience=5,\n",
    "    min_lr=1e-6,\n",
    "    verbose=1\n",
    ")\n",
    "\n",
    "early_stop_cb = callbacks.EarlyStopping(\n",
    "    monitor=\"val_loss\",\n",
    "    patience=10,\n",
    "    restore_best_weights=True\n",
    ")"
   ]
  },
  {
   "cell_type": "code",
   "execution_count": 21,
   "id": "6a7e44e7",
   "metadata": {},
   "outputs": [
    {
     "name": "stdout",
     "output_type": "stream",
     "text": [
      "Input shape: (7796, 224, 224, 3)\n"
     ]
    }
   ],
   "source": [
    "print(\"Input shape:\", X_train.shape)\n"
   ]
  },
  {
   "cell_type": "code",
   "execution_count": 22,
   "id": "66071463",
   "metadata": {},
   "outputs": [
    {
     "name": "stdout",
     "output_type": "stream",
     "text": [
      "Epoch 1/80\n",
      "\u001b[1m244/244\u001b[0m \u001b[32m━━━━━━━━━━━━━━━━━━━━\u001b[0m\u001b[37m\u001b[0m \u001b[1m0s\u001b[0m 2s/step - loss: 14.4056 - mae: 13.8863 - mse: 288.5587"
     ]
    },
    {
     "name": "stderr",
     "output_type": "stream",
     "text": [
      "WARNING:absl:You are saving your model as an HDF5 file via `model.save()` or `keras.saving.save_model(model)`. This file format is considered legacy. We recommend using instead the native Keras format, e.g. `model.save('my_model.keras')` or `keras.saving.save_model(model, 'my_model.keras')`. \n"
     ]
    },
    {
     "name": "stdout",
     "output_type": "stream",
     "text": [
      "\u001b[1m244/244\u001b[0m \u001b[32m━━━━━━━━━━━━━━━━━━━━\u001b[0m\u001b[37m\u001b[0m \u001b[1m460s\u001b[0m 2s/step - loss: 12.5385 - mae: 12.0163 - mse: 231.6497 - val_loss: 9.4988 - val_mae: 8.9740 - val_mse: 107.4192 - learning_rate: 1.0000e-04\n",
      "Epoch 2/80\n",
      "\u001b[1m244/244\u001b[0m \u001b[32m━━━━━━━━━━━━━━━━━━━━\u001b[0m\u001b[37m\u001b[0m \u001b[1m0s\u001b[0m 2s/step - loss: 9.3337 - mae: 8.8074 - mse: 140.6990"
     ]
    },
    {
     "name": "stderr",
     "output_type": "stream",
     "text": [
      "WARNING:absl:You are saving your model as an HDF5 file via `model.save()` or `keras.saving.save_model(model)`. This file format is considered legacy. We recommend using instead the native Keras format, e.g. `model.save('my_model.keras')` or `keras.saving.save_model(model, 'my_model.keras')`. \n"
     ]
    },
    {
     "name": "stdout",
     "output_type": "stream",
     "text": [
      "\u001b[1m244/244\u001b[0m \u001b[32m━━━━━━━━━━━━━━━━━━━━\u001b[0m\u001b[37m\u001b[0m \u001b[1m429s\u001b[0m 2s/step - loss: 8.8421 - mae: 8.3142 - mse: 130.5453 - val_loss: 8.9184 - val_mae: 8.3866 - val_mse: 118.8959 - learning_rate: 1.0000e-04\n",
      "Epoch 3/80\n",
      "\u001b[1m244/244\u001b[0m \u001b[32m━━━━━━━━━━━━━━━━━━━━\u001b[0m\u001b[37m\u001b[0m \u001b[1m0s\u001b[0m 2s/step - loss: 7.9026 - mae: 7.3672 - mse: 109.5620"
     ]
    },
    {
     "name": "stderr",
     "output_type": "stream",
     "text": [
      "WARNING:absl:You are saving your model as an HDF5 file via `model.save()` or `keras.saving.save_model(model)`. This file format is considered legacy. We recommend using instead the native Keras format, e.g. `model.save('my_model.keras')` or `keras.saving.save_model(model, 'my_model.keras')`. \n"
     ]
    },
    {
     "name": "stdout",
     "output_type": "stream",
     "text": [
      "\u001b[1m244/244\u001b[0m \u001b[32m━━━━━━━━━━━━━━━━━━━━\u001b[0m\u001b[37m\u001b[0m \u001b[1m421s\u001b[0m 2s/step - loss: 7.8569 - mae: 7.3179 - mse: 107.1572 - val_loss: 8.7404 - val_mae: 8.1944 - val_mse: 158.9356 - learning_rate: 1.0000e-04\n",
      "Epoch 4/80\n",
      "\u001b[1m244/244\u001b[0m \u001b[32m━━━━━━━━━━━━━━━━━━━━\u001b[0m\u001b[37m\u001b[0m \u001b[1m0s\u001b[0m 2s/step - loss: 7.4006 - mae: 6.8501 - mse: 94.9851"
     ]
    },
    {
     "name": "stderr",
     "output_type": "stream",
     "text": [
      "WARNING:absl:You are saving your model as an HDF5 file via `model.save()` or `keras.saving.save_model(model)`. This file format is considered legacy. We recommend using instead the native Keras format, e.g. `model.save('my_model.keras')` or `keras.saving.save_model(model, 'my_model.keras')`. \n"
     ]
    },
    {
     "name": "stdout",
     "output_type": "stream",
     "text": [
      "\u001b[1m244/244\u001b[0m \u001b[32m━━━━━━━━━━━━━━━━━━━━\u001b[0m\u001b[37m\u001b[0m \u001b[1m423s\u001b[0m 2s/step - loss: 7.4622 - mae: 6.9071 - mse: 99.1772 - val_loss: 7.3885 - val_mae: 6.8238 - val_mse: 129.8372 - learning_rate: 1.0000e-04\n",
      "Epoch 5/80\n",
      "\u001b[1m244/244\u001b[0m \u001b[32m━━━━━━━━━━━━━━━━━━━━\u001b[0m\u001b[37m\u001b[0m \u001b[1m0s\u001b[0m 2s/step - loss: 7.1397 - mae: 6.5691 - mse: 88.8402"
     ]
    },
    {
     "name": "stderr",
     "output_type": "stream",
     "text": [
      "WARNING:absl:You are saving your model as an HDF5 file via `model.save()` or `keras.saving.save_model(model)`. This file format is considered legacy. We recommend using instead the native Keras format, e.g. `model.save('my_model.keras')` or `keras.saving.save_model(model, 'my_model.keras')`. \n"
     ]
    },
    {
     "name": "stdout",
     "output_type": "stream",
     "text": [
      "\u001b[1m244/244\u001b[0m \u001b[32m━━━━━━━━━━━━━━━━━━━━\u001b[0m\u001b[37m\u001b[0m \u001b[1m429s\u001b[0m 2s/step - loss: 7.1505 - mae: 6.5742 - mse: 93.9624 - val_loss: 6.7755 - val_mae: 6.1874 - val_mse: 76.9281 - learning_rate: 1.0000e-04\n",
      "Epoch 6/80\n",
      "\u001b[1m244/244\u001b[0m \u001b[32m━━━━━━━━━━━━━━━━━━━━\u001b[0m\u001b[37m\u001b[0m \u001b[1m0s\u001b[0m 2s/step - loss: 6.8794 - mae: 6.2847 - mse: 89.1961"
     ]
    },
    {
     "name": "stderr",
     "output_type": "stream",
     "text": [
      "WARNING:absl:You are saving your model as an HDF5 file via `model.save()` or `keras.saving.save_model(model)`. This file format is considered legacy. We recommend using instead the native Keras format, e.g. `model.save('my_model.keras')` or `keras.saving.save_model(model, 'my_model.keras')`. \n"
     ]
    },
    {
     "name": "stdout",
     "output_type": "stream",
     "text": [
      "\u001b[1m244/244\u001b[0m \u001b[32m━━━━━━━━━━━━━━━━━━━━\u001b[0m\u001b[37m\u001b[0m \u001b[1m425s\u001b[0m 2s/step - loss: 6.9483 - mae: 6.3467 - mse: 88.8752 - val_loss: 5.5194 - val_mae: 4.9037 - val_mse: 54.3155 - learning_rate: 1.0000e-04\n",
      "Epoch 7/80\n",
      "\u001b[1m244/244\u001b[0m \u001b[32m━━━━━━━━━━━━━━━━━━━━\u001b[0m\u001b[37m\u001b[0m \u001b[1m424s\u001b[0m 2s/step - loss: 6.6685 - mae: 6.0393 - mse: 83.5036 - val_loss: 6.8180 - val_mae: 6.1746 - val_mse: 75.2213 - learning_rate: 1.0000e-04\n",
      "Epoch 8/80\n",
      "\u001b[1m244/244\u001b[0m \u001b[32m━━━━━━━━━━━━━━━━━━━━\u001b[0m\u001b[37m\u001b[0m \u001b[1m435s\u001b[0m 2s/step - loss: 6.6815 - mae: 6.0138 - mse: 83.2772 - val_loss: 6.9956 - val_mae: 6.3015 - val_mse: 93.6393 - learning_rate: 1.0000e-04\n",
      "Epoch 9/80\n",
      "\u001b[1m244/244\u001b[0m \u001b[32m━━━━━━━━━━━━━━━━━━━━\u001b[0m\u001b[37m\u001b[0m \u001b[1m421s\u001b[0m 2s/step - loss: 6.4849 - mae: 5.7736 - mse: 80.1632 - val_loss: 5.7527 - val_mae: 5.0243 - val_mse: 57.4276 - learning_rate: 1.0000e-04\n",
      "Epoch 10/80\n",
      "\u001b[1m244/244\u001b[0m \u001b[32m━━━━━━━━━━━━━━━━━━━━\u001b[0m\u001b[37m\u001b[0m \u001b[1m430s\u001b[0m 2s/step - loss: 6.4465 - mae: 5.6999 - mse: 77.8274 - val_loss: 6.3845 - val_mae: 5.6238 - val_mse: 69.2182 - learning_rate: 1.0000e-04\n",
      "Epoch 11/80\n",
      "\u001b[1m244/244\u001b[0m \u001b[32m━━━━━━━━━━━━━━━━━━━━\u001b[0m\u001b[37m\u001b[0m \u001b[1m0s\u001b[0m 2s/step - loss: 6.2813 - mae: 5.5151 - mse: 70.2170\n",
      "Epoch 11: ReduceLROnPlateau reducing learning rate to 4.999999873689376e-05.\n",
      "\u001b[1m244/244\u001b[0m \u001b[32m━━━━━━━━━━━━━━━━━━━━\u001b[0m\u001b[37m\u001b[0m \u001b[1m420s\u001b[0m 2s/step - loss: 6.2985 - mae: 5.5264 - mse: 74.2315 - val_loss: 9.1775 - val_mae: 8.3925 - val_mse: 123.6252 - learning_rate: 1.0000e-04\n",
      "Epoch 12/80\n",
      "\u001b[1m244/244\u001b[0m \u001b[32m━━━━━━━━━━━━━━━━━━━━\u001b[0m\u001b[37m\u001b[0m \u001b[1m0s\u001b[0m 2s/step - loss: 6.0628 - mae: 5.2768 - mse: 65.5070"
     ]
    },
    {
     "name": "stderr",
     "output_type": "stream",
     "text": [
      "WARNING:absl:You are saving your model as an HDF5 file via `model.save()` or `keras.saving.save_model(model)`. This file format is considered legacy. We recommend using instead the native Keras format, e.g. `model.save('my_model.keras')` or `keras.saving.save_model(model, 'my_model.keras')`. \n"
     ]
    },
    {
     "name": "stdout",
     "output_type": "stream",
     "text": [
      "\u001b[1m244/244\u001b[0m \u001b[32m━━━━━━━━━━━━━━━━━━━━\u001b[0m\u001b[37m\u001b[0m \u001b[1m421s\u001b[0m 2s/step - loss: 6.0197 - mae: 5.2334 - mse: 68.5782 - val_loss: 5.6566 - val_mae: 4.8699 - val_mse: 54.2282 - learning_rate: 5.0000e-05\n",
      "Epoch 13/80\n",
      "\u001b[1m244/244\u001b[0m \u001b[32m━━━━━━━━━━━━━━━━━━━━\u001b[0m\u001b[37m\u001b[0m \u001b[1m0s\u001b[0m 2s/step - loss: 5.8457 - mae: 5.0589 - mse: 71.0629"
     ]
    },
    {
     "name": "stderr",
     "output_type": "stream",
     "text": [
      "WARNING:absl:You are saving your model as an HDF5 file via `model.save()` or `keras.saving.save_model(model)`. This file format is considered legacy. We recommend using instead the native Keras format, e.g. `model.save('my_model.keras')` or `keras.saving.save_model(model, 'my_model.keras')`. \n"
     ]
    },
    {
     "name": "stdout",
     "output_type": "stream",
     "text": [
      "\u001b[1m244/244\u001b[0m \u001b[32m━━━━━━━━━━━━━━━━━━━━\u001b[0m\u001b[37m\u001b[0m \u001b[1m423s\u001b[0m 2s/step - loss: 5.8378 - mae: 5.0508 - mse: 66.6164 - val_loss: 5.2506 - val_mae: 4.4632 - val_mse: 57.2682 - learning_rate: 5.0000e-05\n",
      "Epoch 14/80\n",
      "\u001b[1m244/244\u001b[0m \u001b[32m━━━━━━━━━━━━━━━━━━━━\u001b[0m\u001b[37m\u001b[0m \u001b[1m422s\u001b[0m 2s/step - loss: 5.7203 - mae: 4.9318 - mse: 62.6880 - val_loss: 5.7278 - val_mae: 4.9380 - val_mse: 56.7919 - learning_rate: 5.0000e-05\n",
      "Epoch 15/80\n",
      "\u001b[1m244/244\u001b[0m \u001b[32m━━━━━━━━━━━━━━━━━━━━\u001b[0m\u001b[37m\u001b[0m \u001b[1m421s\u001b[0m 2s/step - loss: 5.6595 - mae: 4.8677 - mse: 63.1159 - val_loss: 6.0553 - val_mae: 5.2614 - val_mse: 69.4609 - learning_rate: 5.0000e-05\n",
      "Epoch 16/80\n",
      "\u001b[1m244/244\u001b[0m \u001b[32m━━━━━━━━━━━━━━━━━━━━\u001b[0m\u001b[37m\u001b[0m \u001b[1m421s\u001b[0m 2s/step - loss: 5.6087 - mae: 4.8130 - mse: 60.9095 - val_loss: 5.9542 - val_mae: 5.1565 - val_mse: 66.5910 - learning_rate: 5.0000e-05\n",
      "Epoch 17/80\n",
      "\u001b[1m244/244\u001b[0m \u001b[32m━━━━━━━━━━━━━━━━━━━━\u001b[0m\u001b[37m\u001b[0m \u001b[1m0s\u001b[0m 2s/step - loss: 5.7292 - mae: 4.9301 - mse: 58.9198"
     ]
    },
    {
     "name": "stderr",
     "output_type": "stream",
     "text": [
      "WARNING:absl:You are saving your model as an HDF5 file via `model.save()` or `keras.saving.save_model(model)`. This file format is considered legacy. We recommend using instead the native Keras format, e.g. `model.save('my_model.keras')` or `keras.saving.save_model(model, 'my_model.keras')`. \n"
     ]
    },
    {
     "name": "stdout",
     "output_type": "stream",
     "text": [
      "\u001b[1m244/244\u001b[0m \u001b[32m━━━━━━━━━━━━━━━━━━━━\u001b[0m\u001b[37m\u001b[0m \u001b[1m421s\u001b[0m 2s/step - loss: 5.7174 - mae: 4.9169 - mse: 62.4740 - val_loss: 5.0403 - val_mae: 4.2375 - val_mse: 48.9235 - learning_rate: 5.0000e-05\n",
      "Epoch 18/80\n",
      "\u001b[1m244/244\u001b[0m \u001b[32m━━━━━━━━━━━━━━━━━━━━\u001b[0m\u001b[37m\u001b[0m \u001b[1m421s\u001b[0m 2s/step - loss: 5.5601 - mae: 4.7555 - mse: 60.4584 - val_loss: 5.2083 - val_mae: 4.4020 - val_mse: 50.6377 - learning_rate: 5.0000e-05\n",
      "Epoch 19/80\n",
      "\u001b[1m244/244\u001b[0m \u001b[32m━━━━━━━━━━━━━━━━━━━━\u001b[0m\u001b[37m\u001b[0m \u001b[1m424s\u001b[0m 2s/step - loss: 5.4394 - mae: 4.6313 - mse: 57.7857 - val_loss: 5.0543 - val_mae: 4.2445 - val_mse: 47.7798 - learning_rate: 5.0000e-05\n",
      "Epoch 20/80\n",
      "\u001b[1m244/244\u001b[0m \u001b[32m━━━━━━━━━━━━━━━━━━━━\u001b[0m\u001b[37m\u001b[0m \u001b[1m420s\u001b[0m 2s/step - loss: 5.4187 - mae: 4.6067 - mse: 58.5906 - val_loss: 5.2678 - val_mae: 4.4537 - val_mse: 50.3540 - learning_rate: 5.0000e-05\n",
      "Epoch 21/80\n",
      "\u001b[1m244/244\u001b[0m \u001b[32m━━━━━━━━━━━━━━━━━━━━\u001b[0m\u001b[37m\u001b[0m \u001b[1m421s\u001b[0m 2s/step - loss: 5.3746 - mae: 4.5584 - mse: 57.0975 - val_loss: 5.0622 - val_mae: 4.2438 - val_mse: 46.7641 - learning_rate: 5.0000e-05\n",
      "Epoch 22/80\n",
      "\u001b[1m244/244\u001b[0m \u001b[32m━━━━━━━━━━━━━━━━━━━━\u001b[0m\u001b[37m\u001b[0m \u001b[1m0s\u001b[0m 2s/step - loss: 5.2162 - mae: 4.3969 - mse: 42.8725\n",
      "Epoch 22: ReduceLROnPlateau reducing learning rate to 2.499999936844688e-05.\n",
      "\u001b[1m244/244\u001b[0m \u001b[32m━━━━━━━━━━━━━━━━━━━━\u001b[0m\u001b[37m\u001b[0m \u001b[1m420s\u001b[0m 2s/step - loss: 5.3796 - mae: 4.5598 - mse: 56.3381 - val_loss: 5.7845 - val_mae: 4.9635 - val_mse: 57.5555 - learning_rate: 5.0000e-05\n",
      "Epoch 23/80\n",
      "\u001b[1m244/244\u001b[0m \u001b[32m━━━━━━━━━━━━━━━━━━━━\u001b[0m\u001b[37m\u001b[0m \u001b[1m421s\u001b[0m 2s/step - loss: 5.2560 - mae: 4.4360 - mse: 53.8795 - val_loss: 5.1678 - val_mae: 4.3488 - val_mse: 49.8739 - learning_rate: 2.5000e-05\n",
      "Epoch 24/80\n",
      "\u001b[1m244/244\u001b[0m \u001b[32m━━━━━━━━━━━━━━━━━━━━\u001b[0m\u001b[37m\u001b[0m \u001b[1m420s\u001b[0m 2s/step - loss: 5.1333 - mae: 4.3153 - mse: 51.8594 - val_loss: 5.2850 - val_mae: 4.4680 - val_mse: 55.0022 - learning_rate: 2.5000e-05\n",
      "Epoch 25/80\n",
      "\u001b[1m244/244\u001b[0m \u001b[32m━━━━━━━━━━━━━━━━━━━━\u001b[0m\u001b[37m\u001b[0m \u001b[1m421s\u001b[0m 2s/step - loss: 5.0985 - mae: 4.2824 - mse: 51.2815 - val_loss: 5.3258 - val_mae: 4.5106 - val_mse: 55.8703 - learning_rate: 2.5000e-05\n",
      "Epoch 26/80\n",
      "\u001b[1m244/244\u001b[0m \u001b[32m━━━━━━━━━━━━━━━━━━━━\u001b[0m\u001b[37m\u001b[0m \u001b[1m422s\u001b[0m 2s/step - loss: 5.0755 - mae: 4.2613 - mse: 51.0221 - val_loss: 5.1647 - val_mae: 4.3515 - val_mse: 49.0208 - learning_rate: 2.5000e-05\n",
      "Epoch 27/80\n",
      "\u001b[1m244/244\u001b[0m \u001b[32m━━━━━━━━━━━━━━━━━━━━\u001b[0m\u001b[37m\u001b[0m \u001b[1m0s\u001b[0m 2s/step - loss: 5.0863 - mae: 4.2735 - mse: 50.2423\n",
      "Epoch 27: ReduceLROnPlateau reducing learning rate to 1.249999968422344e-05.\n",
      "\u001b[1m244/244\u001b[0m \u001b[32m━━━━━━━━━━━━━━━━━━━━\u001b[0m\u001b[37m\u001b[0m \u001b[1m421s\u001b[0m 2s/step - loss: 5.0874 - mae: 4.2749 - mse: 50.8462 - val_loss: 5.1508 - val_mae: 4.3392 - val_mse: 49.2557 - learning_rate: 2.5000e-05\n"
     ]
    }
   ],
   "source": [
    "# Model Training\n",
    "\n",
    "history = model.fit(\n",
    "    X_train, y_train,\n",
    "    validation_data=(X_val, y_val),\n",
    "    epochs=80,\n",
    "    batch_size=32,\n",
    "    callbacks=[checkpoint_cb, reduce_lr_cb, early_stop_cb],\n",
    "    verbose=1\n",
    ")\n"
   ]
  },
  {
   "cell_type": "code",
   "execution_count": 23,
   "id": "383ce20f",
   "metadata": {},
   "outputs": [
    {
     "data": {
      "image/png": "[encoded data removed]",
      "text/plain": [
       "<Figure size 1200x500 with 2 Axes>"
      ]
     },
     "metadata": {},
     "output_type": "display_data"
    }
   ],
   "source": [
    "# Visualize Training Process\n",
    "\n",
    "import matplotlib.pyplot as plt\n",
    "\n",
    "plt.figure(figsize=(12, 5))\n",
    "\n",
    "# Loss curve\n",
    "plt.subplot(1, 2, 1)\n",
    "plt.plot(history.history['loss'], label='Train Loss')\n",
    "plt.plot(history.history['val_loss'], label='Validation Loss')\n",
    "plt.title('Loss Curve (MAE)')\n",
    "plt.legend()\n",
    "\n",
    "# MAE curve\n",
    "plt.subplot(1, 2, 2)\n",
    "plt.plot(history.history['mae'], label='Train MAE')\n",
    "plt.plot(history.history['val_mae'], label='Validation MAE')\n",
    "plt.title('MAE Curve')\n",
    "plt.legend()\n",
    "\n",
    "plt.show()"
   ]
  },
  {
   "cell_type": "code",
   "execution_count": 26,
   "id": "bb6742c8",
   "metadata": {},
   "outputs": [
    {
     "name": "stdout",
     "output_type": "stream",
     "text": [
      "\u001b[1m53/53\u001b[0m \u001b[32m━━━━━━━━━━━━━━━━━━━━\u001b[0m\u001b[37m\u001b[0m \u001b[1m16s\u001b[0m 301ms/step - loss: 5.1769 - mae: 4.3741 - mse: 61.4939\n",
      "Test MAE: 4.37 years\n"
     ]
    }
   ],
   "source": [
    "# Evaluate on Test Data\n",
    "\n",
    "test_loss, test_mae, test_mse = model.evaluate(X_test, y_test)\n",
    "print(f\"Test MAE: {test_mae:.2f} years\")"
   ]
  }
 ],
 "metadata": {
  "kernelspec": {
   "display_name": ".env",
   "language": "python",
   "name": "python3"
  },
  "language_info": {
   "codemirror_mode": {
    "name": "ipython",
    "version": 3
   },
   "file_extension": ".py",
   "mimetype": "text/x-python",
   "name": "python",
   "nbconvert_exporter": "python",
   "pygments_lexer": "ipython3",
   "version": "3.12.2"
  }
 },
 "nbformat": 4,
 "nbformat_minor": 5
}
