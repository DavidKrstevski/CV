{
 "cells": [
  {
   "cell_type": "code",
   "execution_count": null,
   "id": "a8c638a302ea94d5",
   "metadata": {},
   "outputs": [],
   "source": [
    "import os\n",
    "import cv2 "
   ]
  },
  {
   "cell_type": "code",
   "execution_count": 15,
   "id": "ba30e8fd",
   "metadata": {},
   "outputs": [
    {
     "name": "stdout",
     "output_type": "stream",
     "text": [
      "24099\n"
     ]
    }
   ],
   "source": [
    "image_dir = \"./images\"\n",
    "images, labels = [], []\n",
    "\n",
    "for file_name in os.listdir(image_dir):\n",
    "    parts = os.path.splitext(file_name)[0].split(\"_\")\n",
    "    if len(parts) != 4 or any(p == \"\" for p in parts):\n",
    "        continue\n",
    "\n",
    "    age, gender, race, date = int(parts[0]), int(parts[1]), int(parts[2]), parts[3]\n",
    "    if not (0 <= age <= 116 and gender in (0, 1) and 0 <= race <= 4 and len(date) == 17):\n",
    "        continue\n",
    "\n",
    "    img_path = os.path.join(image_dir, file_name)\n",
    "    img = cv2.imread(img_path)\n",
    "\n",
    "    images.append(img)\n",
    "    labels.append({\n",
    "        \"age\": age,\n",
    "        \"gender\": gender,\n",
    "        \"race\": race,\n",
    "        \"datetime\": date\n",
    "    })\n",
    "\n",
    "print(len(images))"
   ]
  }
 ],
 "metadata": {
  "kernelspec": {
   "display_name": "Python 3",
   "language": "python",
   "name": "python3"
  },
  "language_info": {
   "codemirror_mode": {
    "name": "ipython",
    "version": 3
   },
   "file_extension": ".py",
   "mimetype": "text/x-python",
   "name": "python",
   "nbconvert_exporter": "python",
   "pygments_lexer": "ipython3",
   "version": "3.13.7"
  }
 },
 "nbformat": 4,
 "nbformat_minor": 5
}
